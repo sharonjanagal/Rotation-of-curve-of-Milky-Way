{
 "cells": [
  {
   "cell_type": "code",
   "execution_count": 1,
   "metadata": {},
   "outputs": [],
   "source": [
    "%matplotlib inline"
   ]
  },
  {
   "cell_type": "code",
   "execution_count": 53,
   "metadata": {},
   "outputs": [],
   "source": [
    "import numpy as np\n",
    "import matplotlib.pyplot as plt\n",
    "from scipy.signal import find_peaks "
   ]
  },
  {
   "cell_type": "code",
   "execution_count": 54,
   "metadata": {},
   "outputs": [],
   "source": [
    "#listing the galactic longitudes for which observations are taken\n",
    "gal_long = [92.3, 84.9, 79.9, 74.8, 72.7, 66.6, 64.8, 54.8, 49.8, 44.8, 39.8, 34.8, 29.0, 25.0]\n",
    "#initalizing the v_max list\n",
    "v_max_list = []"
   ]
  },
  {
   "cell_type": "code",
   "execution_count": 55,
   "metadata": {},
   "outputs": [],
   "source": [
    "#range of file nams of observed data\n",
    "ids = range(38885,38898+1)"
   ]
  },
  {
   "cell_type": "code",
   "execution_count": 56,
   "metadata": {},
   "outputs": [
    {
     "name": "stdout",
     "output_type": "stream",
     "text": [
      "3.944803691625129\n",
      "5.865708420633736\n",
      "2.847113465681349\n",
      "20.292795997575706\n",
      "4.91476771189767\n",
      "20.674045634701336\n",
      "31.93144107469973\n",
      "55.21204468063647\n",
      "65.4341836069533\n",
      "71.28192265438354\n",
      "72.77375567715522\n",
      "86.34385653573166\n",
      "99.75\n",
      "96.46\n"
     ]
    }
   ],
   "source": [
    "#analyzing the data \n",
    "for i in ids:\n",
    "    #opening and reading the data file\n",
    "    datafile = \"E:/Sharan/Reads/spectrum_%d.txt\" % (i)\n",
    "    fun = open(datafile,'r')\n",
    "    data = np.loadtxt(fun)\n",
    "    fun.close()\n",
    "    #column 0 contains the vel_lsr\n",
    "    vel_lsr = data[:,0]\n",
    "    #column 1 contains the corresponding intenisty/antenna_temp\n",
    "    antenna_temp  = data[:,1]\n",
    "    #plotting the data \n",
    "    plt.plot(vel_lsr,antenna_temp)\n",
    "    plt.show()\n",
    "    #finding the peaks of the curve \n",
    "    #only peaks having intensity of 20 or above are considered\n",
    "    peaks, properties = find_peaks(antenna_temp, height = 20)\n",
    "    #lists the heights of peak \n",
    "    peak_height = properties['peak_heights']\n",
    "    #velocity corresponding to peaks \n",
    "    peak_vel = vel_lsr[peaks]\n",
    "    #finding v max\n",
    "    vel_max = max(peak_vel)\n",
    "    print(vel_max)\n",
    "    v_max_list.append(vel_max)\n",
    "\n"
   ]
  },
  {
   "cell_type": "code",
   "execution_count": 57,
   "metadata": {},
   "outputs": [
    {
     "name": "stdout",
     "output_type": "stream",
     "text": [
      "The vel_max at different galactic longitudes are:  [3.944803691625129, 5.865708420633736, 2.847113465681349, 20.292795997575706, 4.91476771189767, 20.674045634701336, 31.93144107469973, 55.21204468063647, 65.4341836069533, 71.28192265438354, 72.77375567715522, 86.34385653573166, 99.75, 96.46]\n"
     ]
    }
   ],
   "source": [
    "\n",
    "\n",
    "#printing the vales of all v max    \n",
    "print('The vel_max at different galactic longitudes are: ', v_max_list)    \n",
    "    "
   ]
  },
  {
   "cell_type": "code",
   "execution_count": 76,
   "metadata": {},
   "outputs": [
    {
     "data": {
      "image/png": "[encoded data removed]",
      "text/plain": [
       "<Figure size 504x360 with 1 Axes>"
      ]
     },
     "metadata": {
      "needs_background": "light"
     },
     "output_type": "display_data"
    }
   ],
   "source": [
    "from astropy import units as u\n",
    "#distance of sun from galactic centre\n",
    "Ro = 8.5e3 * u.parsec\n",
    "R_km = Ro.to(u.km) *np.sin(np.deg2rad(gal_long))\n",
    "#converting from km to kilo parsec \n",
    "R = R_km.to(u.kiloparsec)\n",
    "#calculating velocity\n",
    "V = v_max_list + 220*np.sin(np.deg2rad(gal_long)) \n",
    "#plotting the rotation curve\n",
    "plt.figure(figsize=(7,5))\n",
    "plt.title('$Rotation $ $ curve $ $ of $ $ Milky $ $ Way$')\n",
    "#plotting the curve\n",
    "plt.plot(R, V, marker = '*',  color='blue')\n",
    "plt.ylim(0,300)\n",
    "plt.xlabel('$ R(kpc)$')\n",
    "plt.ylabel('$Velocity(km/s)$')\n",
    "plt.show()\n",
    "\n",
    "\n",
    "\n"
   ]
  },
  {
   "cell_type": "code",
   "execution_count": 89,
   "metadata": {},
   "outputs": [
    {
     "name": "stdout",
     "output_type": "stream",
     "text": [
      "V = 5.05568*r + 186.23657\n"
     ]
    },
    {
     "data": {
      "image/png": "[encoded data removed]",
      "text/plain": [
       "<Figure size 432x288 with 1 Axes>"
      ]
     },
     "metadata": {
      "needs_background": "light"
     },
     "output_type": "display_data"
    }
   ],
   "source": [
    "r = R/(1*u.kiloparsec)\n",
    "from scipy.optimize import curve_fit\n",
    "#Considering rotation curve to be flat, take a best fit straight line\n",
    "def objective(r,a,b):\n",
    "    return a*r + b\n",
    "#curve fit\n",
    "vel,_ = curve_fit(objective,r,V)\n",
    "a,b = vel\n",
    "print('V = %.5f*r + %.5f' %(a,b))\n",
    "R_line = np.arange(min(r),max(r) ,0.1)\n",
    "V_line = objective(R_line,a,b)\n",
    "plt.scatter(R, V, marker = '*',  color='blue')\n",
    "plt.plot(R_line,V_line,'--', color = 'red')\n",
    "plt.ylim(0,300)\n",
    "plt.xlabel('$ R(kpc)$')\n",
    "plt.ylabel('$Velocity(km/s)$')\n",
    "plt.title('$Rotation $ $ curve $ $ of $ $ Milky $ $ Way$')\n",
    "plt.show()\n"
   ]
  },
  {
   "cell_type": "code",
   "execution_count": null,
   "metadata": {},
   "outputs": [],
   "source": []
  }
 ],
 "metadata": {
  "kernelspec": {
   "display_name": "Python 3",
   "language": "python",
   "name": "python3"
  },
  "language_info": {
   "codemirror_mode": {
    "name": "ipython",
    "version": 3
   },
   "file_extension": ".py",
   "mimetype": "text/x-python",
   "name": "python",
   "nbconvert_exporter": "python",
   "pygments_lexer": "ipython3",
   "version": "3.7.9"
  }
 },
 "nbformat": 4,
 "nbformat_minor": 4
}
